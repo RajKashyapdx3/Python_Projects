{
 "cells": [
  {
   "cell_type": "markdown",
   "id": "842865f0",
   "metadata": {},
   "source": [
    "# Uniform Distribution"
   ]
  },
  {
   "cell_type": "markdown",
   "id": "9d495b9f",
   "metadata": {},
   "source": [
    "###  A University records the time taken by students to solve the statistics assignment in 'assignment.csv’. Plot the probability distribution this data follows and answer the following questions."
   ]
  },
  {
   "cell_type": "markdown",
   "id": "6d335c80",
   "metadata": {},
   "source": [
    "#### Importing the Data"
   ]
  },
  {
   "cell_type": "code",
   "execution_count": 3,
   "id": "2855947a",
   "metadata": {},
   "outputs": [],
   "source": [
    "import numpy as np\n",
    "import pandas as pd\n",
    "import scipy.stats as stats\n",
    "import matplotlib.pyplot as plt\n",
    "import seaborn as sns\n",
    "%matplotlib inline"
   ]
  },
  {
   "cell_type": "code",
   "execution_count": 4,
   "id": "fe2485ba",
   "metadata": {},
   "outputs": [],
   "source": [
    "df=pd.read_csv('assignment.csv')"
   ]
  },
  {
   "cell_type": "code",
   "execution_count": 6,
   "id": "0af89b31",
   "metadata": {},
   "outputs": [
    {
     "data": {
      "text/plain": [
       "<AxesSubplot:xlabel='Time_taken', ylabel='Count'>"
      ]
     },
     "execution_count": 6,
     "metadata": {},
     "output_type": "execute_result"
    },
    {
     "data": {
      "image/png": "[encoded data removed]",
      "text/plain": [
       "<Figure size 640x480 with 1 Axes>"
      ]
     },
     "metadata": {},
     "output_type": "display_data"
    }
   ],
   "source": [
    "sns.histplot(x='Time_taken',data=df,kde=True)"
   ]
  },
  {
   "cell_type": "markdown",
   "id": "389f3484",
   "metadata": {},
   "source": [
    "**a) Find the probability that a randomly selected Student requires at most 2.5 hours to complete the assignment.**"
   ]
  },
  {
   "cell_type": "code",
   "execution_count": 7,
   "id": "ff8b72e4",
   "metadata": {},
   "outputs": [
    {
     "data": {
      "text/plain": [
       "0.5"
      ]
     },
     "execution_count": 7,
     "metadata": {},
     "output_type": "execute_result"
    }
   ],
   "source": [
    "stats.uniform.cdf(2.5,loc=1,scale=3)"
   ]
  },
  {
   "cell_type": "markdown",
   "id": "c8cc6a7a",
   "metadata": {},
   "source": [
    "**b) Find the probability that a randomly selected student requires at least 3 hours to complete the quiz.**"
   ]
  },
  {
   "cell_type": "code",
   "execution_count": 8,
   "id": "8392cc23",
   "metadata": {},
   "outputs": [
    {
     "data": {
      "text/plain": [
       "0.6666666666666666"
      ]
     },
     "execution_count": 8,
     "metadata": {},
     "output_type": "execute_result"
    }
   ],
   "source": [
    "stats.uniform.cdf(3,loc=1,scale=3)"
   ]
  },
  {
   "cell_type": "markdown",
   "id": "760cda9c",
   "metadata": {},
   "source": [
    "**c) Find the probability that a randomly selected student requires 1.5 to 3.5 hours to complete the quiz.**"
   ]
  },
  {
   "cell_type": "code",
   "execution_count": 10,
   "id": "8f881a49",
   "metadata": {},
   "outputs": [
    {
     "data": {
      "text/plain": [
       "0.6666666666666667"
      ]
     },
     "execution_count": 10,
     "metadata": {},
     "output_type": "execute_result"
    }
   ],
   "source": [
    "x=stats.uniform.cdf(1.5,loc=1,scale=3)\n",
    "y=stats.uniform.cdf(3.5,loc=1,scale=3)\n",
    "y-x"
   ]
  },
  {
   "cell_type": "markdown",
   "id": "ce98d789",
   "metadata": {},
   "source": [
    "# Normal Distribution"
   ]
  },
  {
   "cell_type": "markdown",
   "id": "169619b6",
   "metadata": {},
   "source": [
    "4)\tAccording to the Telecommunication Industry the average monthly cell phone bill is Rs. 850 with a standard deviation of Rs. 150. \n",
    "\n",
    "-   What is the probability that a randomly selected cell phone bill is more than Rs 1200?\n",
    "-\tWhat is the probability that a randomly selected cell phone bill is between Rs 750 and Rs 1200?\n",
    "-\tWhat is the probability that a randomly selected cell phone bill is no more than Rs 650?\n",
    "-\tWhat is the amount above which lies top 15% of cell phone bills?\n",
    "-\tWhat is the amount below which lies bottom 25% of cell phone bills?"
   ]
  },
  {
   "cell_type": "markdown",
   "id": "2c77c375",
   "metadata": {},
   "source": [
    "This is a problem of normal probability distribution. Though the distribution is not mentioned, in absence of any other information we assume normality in the population. "
   ]
  },
  {
   "cell_type": "code",
   "execution_count": 15,
   "id": "af56a1ce",
   "metadata": {},
   "outputs": [
    {
     "data": {
      "text/plain": [
       "0.009815328628645315"
      ]
     },
     "execution_count": 15,
     "metadata": {},
     "output_type": "execute_result"
    }
   ],
   "source": [
    "#Mu=850\n",
    "#sd=150\n",
    "#What is the probability that a randomly selected cell phone bill is more than Rs 1200?\n",
    "1-stats.norm.cdf(1200,loc=850,scale=150)"
   ]
  },
  {
   "cell_type": "code",
   "execution_count": 14,
   "id": "221c87dc",
   "metadata": {},
   "outputs": [
    {
     "data": {
      "text/plain": [
       "0.7376921338244318"
      ]
     },
     "execution_count": 14,
     "metadata": {},
     "output_type": "execute_result"
    }
   ],
   "source": [
    "#What is the probability that a randomly selected cell phone bill is between Rs 750 and Rs 1200?\n",
    "stats.norm.cdf(1200,loc=850,scale=150)-stats.norm.cdf(750,loc=850,scale=150)"
   ]
  },
  {
   "cell_type": "code",
   "execution_count": 16,
   "id": "6d983e4c",
   "metadata": {},
   "outputs": [
    {
     "data": {
      "text/plain": [
       "0.09121121972586788"
      ]
     },
     "execution_count": 16,
     "metadata": {},
     "output_type": "execute_result"
    }
   ],
   "source": [
    "#What is the probability that a randomly selected cell phone bill is no more than Rs 650?\n",
    "stats.norm.cdf(650,loc=850,scale=150)"
   ]
  },
  {
   "cell_type": "code",
   "execution_count": 18,
   "id": "82f03094",
   "metadata": {},
   "outputs": [
    {
     "data": {
      "text/plain": [
       "1005.4650084240685"
      ]
     },
     "execution_count": 18,
     "metadata": {},
     "output_type": "execute_result"
    }
   ],
   "source": [
    "#What is the amount above which lies top 15% of cell phone bills? (#ppf-percenticle point function)\n",
    "stats.norm.ppf(0.85,loc=850,scale=150)"
   ]
  },
  {
   "cell_type": "code",
   "execution_count": 19,
   "id": "c6f55000",
   "metadata": {},
   "outputs": [
    {
     "data": {
      "text/plain": [
       "748.8265374705877"
      ]
     },
     "execution_count": 19,
     "metadata": {},
     "output_type": "execute_result"
    }
   ],
   "source": [
    "#What is the amount below which lies bottom 25% of cell phone bills?\n",
    "stats.norm.ppf(0.25,loc=850,scale=150)"
   ]
  },
  {
   "cell_type": "markdown",
   "id": "57a97d4d",
   "metadata": {},
   "source": [
    "During early 2012, economic hardship was stretching the limits of France welfare system. One indicator of the level of hardship was the increase in the number of people bringing items to the pawnbroker. Assume the number of people visiting the pawnshop is normally distributed with the mean of 658.\n",
    "\n",
    "a) Suppose you learn that on 3% of days, 610 or fewer people bought items to the pawnshop. What is the S.d. of the no. of people bringing items to the pawnshop.\n",
    "\n",
    "b) On any given day, what is the prob. That b/w 600 and 700 people bring items to the pawnshop\n",
    "\n",
    "c) How many people bring items to the pawnshop on the busiest 3% of days."
   ]
  },
  {
   "cell_type": "code",
   "execution_count": 23,
   "id": "491103a6",
   "metadata": {},
   "outputs": [],
   "source": [
    "#a) Suppose you learn that on 3% of days, 610 or fewer people bought items to the pawnshop.\n",
    "#What is the S.d. of the no. of people bringing items to the pawnshop.\n",
    "Mu=658\n",
    "X=610"
   ]
  },
  {
   "cell_type": "code",
   "execution_count": null,
   "id": "391f76bb",
   "metadata": {},
   "outputs": [],
   "source": [
    "z=X-Mu/SD"
   ]
  },
  {
   "cell_type": "code",
   "execution_count": 25,
   "id": "84887464",
   "metadata": {},
   "outputs": [
    {
     "data": {
      "text/plain": [
       "-1.880793608151251"
      ]
     },
     "execution_count": 25,
     "metadata": {},
     "output_type": "execute_result"
    }
   ],
   "source": [
    "#Find Z value\n",
    "z=stats.norm.ppf(0.03)\n",
    "z"
   ]
  },
  {
   "cell_type": "code",
   "execution_count": 27,
   "id": "f9c6c75d",
   "metadata": {},
   "outputs": [
    {
     "data": {
      "text/plain": [
       "25.52114160318855"
      ]
     },
     "execution_count": 27,
     "metadata": {},
     "output_type": "execute_result"
    }
   ],
   "source": [
    "SD=(X-Mu)/z\n",
    "SD"
   ]
  },
  {
   "cell_type": "code",
   "execution_count": null,
   "id": "1ab1c6da",
   "metadata": {},
   "outputs": [],
   "source": [
    "#b) On any given day, what is the prob. That b/w 600 and 700 people bring items to the pawnshop"
   ]
  },
  {
   "cell_type": "code",
   "execution_count": 28,
   "id": "5ef50f6e",
   "metadata": {},
   "outputs": [
    {
     "data": {
      "text/plain": [
       "0.9385622789639878"
      ]
     },
     "execution_count": 28,
     "metadata": {},
     "output_type": "execute_result"
    }
   ],
   "source": [
    "stats.norm.cdf(700,Mu,SD)-stats.norm.cdf(600,Mu,SD)"
   ]
  },
  {
   "cell_type": "code",
   "execution_count": null,
   "id": "ed0dcaa4",
   "metadata": {},
   "outputs": [],
   "source": [
    "#c) How many people bring items to the pawnshop on the busiest 3% of days."
   ]
  },
  {
   "cell_type": "code",
   "execution_count": 31,
   "id": "e71db70e",
   "metadata": {},
   "outputs": [
    {
     "data": {
      "text/plain": [
       "706.0"
      ]
     },
     "execution_count": 31,
     "metadata": {},
     "output_type": "execute_result"
    }
   ],
   "source": [
    "stats.norm.ppf(0.97,Mu,SD)"
   ]
  },
  {
   "cell_type": "markdown",
   "id": "6e4b2a88",
   "metadata": {},
   "source": [
    "5)\tFor on-campus recruitment Ms. Z has sat for tests by Company A and Company B. For both tests her score is 50. It is known that for Company A, scores have a normal distribution with mean 40 and standard deviation 15 whereas for Company B, scores have a normal distribution with mean 45 and standard deviation 10. Relatively speaking in which test has Ms. Z done better?"
   ]
  },
  {
   "cell_type": "code",
   "execution_count": 37,
   "id": "a6cc0bb8",
   "metadata": {},
   "outputs": [
    {
     "data": {
      "text/plain": [
       "0.7475074624530771"
      ]
     },
     "execution_count": 37,
     "metadata": {},
     "output_type": "execute_result"
    }
   ],
   "source": [
    "A=stats.norm.cdf(50,40,15)\n",
    "A"
   ]
  },
  {
   "cell_type": "code",
   "execution_count": 39,
   "id": "db1ff4da",
   "metadata": {},
   "outputs": [
    {
     "data": {
      "text/plain": [
       "0.6914624612740131"
      ]
     },
     "execution_count": 39,
     "metadata": {},
     "output_type": "execute_result"
    }
   ],
   "source": [
    "B=stats.norm.cdf(50,45,10)\n",
    "B"
   ]
  },
  {
   "cell_type": "markdown",
   "id": "bfff3d0b",
   "metadata": {},
   "source": [
    "### The mean filling capacity for a coke bottle is 500 ml with a standard deviation of 20 ml. Assume that it follows a normal distribution and answer the following questions."
   ]
  },
  {
   "cell_type": "markdown",
   "id": "13c61d6d",
   "metadata": {},
   "source": [
    "**a) What is the probability that the bottle filled less than 480 ml?**"
   ]
  },
  {
   "cell_type": "code",
   "execution_count": 40,
   "id": "37baa228",
   "metadata": {},
   "outputs": [
    {
     "data": {
      "text/plain": [
       "0.15865525393145707"
      ]
     },
     "execution_count": 40,
     "metadata": {},
     "output_type": "execute_result"
    }
   ],
   "source": [
    "Mu=500\n",
    "SD=20\n",
    "stats.norm.cdf(480,500,20)"
   ]
  },
  {
   "cell_type": "markdown",
   "id": "b0aa6f4d",
   "metadata": {},
   "source": [
    "**b) What is the probability that the bottle filled more than 520 ml?**"
   ]
  },
  {
   "cell_type": "code",
   "execution_count": 43,
   "id": "1caf32da",
   "metadata": {},
   "outputs": [
    {
     "data": {
      "text/plain": [
       "0.15865525393145707"
      ]
     },
     "execution_count": 43,
     "metadata": {},
     "output_type": "execute_result"
    }
   ],
   "source": [
    "1-stats.norm.cdf(520,500,20)"
   ]
  },
  {
   "cell_type": "markdown",
   "id": "783cf470",
   "metadata": {},
   "source": [
    "**c) What is the probability that the bottle filled between 470 ml to 525 ml?**"
   ]
  },
  {
   "cell_type": "code",
   "execution_count": 41,
   "id": "f2713ed8",
   "metadata": {},
   "outputs": [
    {
     "data": {
      "text/plain": [
       "0.8275430250642866"
      ]
     },
     "execution_count": 41,
     "metadata": {},
     "output_type": "execute_result"
    }
   ],
   "source": [
    "stats.norm.cdf(525,500,20)-stats.norm.cdf(470,500,20)"
   ]
  },
  {
   "cell_type": "code",
   "execution_count": null,
   "id": "2cfe7c17",
   "metadata": {},
   "outputs": [],
   "source": []
  }
 ],
 "metadata": {
  "kernelspec": {
   "display_name": "Python 3 (ipykernel)",
   "language": "python",
   "name": "python3"
  },
  "language_info": {
   "codemirror_mode": {
    "name": "ipython",
    "version": 3
   },
   "file_extension": ".py",
   "mimetype": "text/x-python",
   "name": "python",
   "nbconvert_exporter": "python",
   "pygments_lexer": "ipython3",
   "version": "3.9.13"
  }
 },
 "nbformat": 4,
 "nbformat_minor": 5
}
