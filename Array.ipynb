{
 "cells": [
  {
   "cell_type": "code",
   "execution_count": 1,
   "id": "df6fe478",
   "metadata": {},
   "outputs": [],
   "source": [
    "# Create An array\n",
    "import numpy as np"
   ]
  },
  {
   "cell_type": "code",
   "execution_count": 85,
   "id": "a077db81",
   "metadata": {},
   "outputs": [
    {
     "name": "stdout",
     "output_type": "stream",
     "text": [
      "[1 2 3 4]\n"
     ]
    }
   ],
   "source": [
    "arr=np.array([1,2,3,4])\n",
    "print(arr)"
   ]
  },
  {
   "cell_type": "code",
   "execution_count": 3,
   "id": "8965e66e",
   "metadata": {},
   "outputs": [
    {
     "name": "stdout",
     "output_type": "stream",
     "text": [
      "23\n"
     ]
    }
   ],
   "source": [
    "# O-Dim array\n",
    "arr=np.array(23)\n",
    "print(arr)"
   ]
  },
  {
   "cell_type": "code",
   "execution_count": 4,
   "id": "2f1c9518",
   "metadata": {},
   "outputs": [
    {
     "name": "stdout",
     "output_type": "stream",
     "text": [
      "[1 2 3 4]\n"
     ]
    }
   ],
   "source": [
    "# 1-Dim array\n",
    "arr=np.array([1,2,3,4])\n",
    "print(arr)"
   ]
  },
  {
   "cell_type": "code",
   "execution_count": 6,
   "id": "eecaf278",
   "metadata": {},
   "outputs": [
    {
     "name": "stdout",
     "output_type": "stream",
     "text": [
      "[[1 2 3 4]\n",
      " [5 6 7 9]]\n"
     ]
    }
   ],
   "source": [
    "# 2-Dim array\n",
    "arr=np.array([[1,2,3,4],[5,6,7,9]])\n",
    "print(arr)"
   ]
  },
  {
   "cell_type": "code",
   "execution_count": 10,
   "id": "d5102b1d",
   "metadata": {},
   "outputs": [
    {
     "name": "stdout",
     "output_type": "stream",
     "text": [
      "[[[ 1  2  3  4]\n",
      "  [ 5  6  7  9]]\n",
      "\n",
      " [[10 11 12 13]\n",
      "  [14 15 16 17]]]\n"
     ]
    }
   ],
   "source": [
    "# 3-Dim array\n",
    "arr=np.array([[[1,2,3,4],[5,6,7,9]],[[10,11,12,13],[14,15,16,17]]])\n",
    "print(arr)"
   ]
  },
  {
   "cell_type": "code",
   "execution_count": 11,
   "id": "53ce99e1",
   "metadata": {},
   "outputs": [
    {
     "data": {
      "text/plain": [
       "3"
      ]
     },
     "execution_count": 11,
     "metadata": {},
     "output_type": "execute_result"
    }
   ],
   "source": [
    "arr.ndim"
   ]
  },
  {
   "cell_type": "code",
   "execution_count": 13,
   "id": "62a90644",
   "metadata": {},
   "outputs": [
    {
     "name": "stdout",
     "output_type": "stream",
     "text": [
      "[[[[[1 2 3 4]]]]]\n"
     ]
    }
   ],
   "source": [
    "# Multi-dimensional array\n",
    "arr=np.array([1,2,3,4],ndmin=5)\n",
    "print(arr)"
   ]
  },
  {
   "cell_type": "code",
   "execution_count": 14,
   "id": "4bc425de",
   "metadata": {},
   "outputs": [
    {
     "name": "stdout",
     "output_type": "stream",
     "text": [
      "[1 2 3 4]\n"
     ]
    }
   ],
   "source": [
    "# Accessing an array\n",
    "my_array=np.array([1,2,3,4])\n",
    "print(my_array)"
   ]
  },
  {
   "cell_type": "code",
   "execution_count": 15,
   "id": "24b83daf",
   "metadata": {},
   "outputs": [
    {
     "name": "stdout",
     "output_type": "stream",
     "text": [
      "['1' '2' '3' '4']\n"
     ]
    }
   ],
   "source": [
    "# Upcasting data types\n",
    "my_array=np.array([1,2,3,'4'])\n",
    "print(my_array)"
   ]
  },
  {
   "cell_type": "code",
   "execution_count": 16,
   "id": "53e71b37",
   "metadata": {},
   "outputs": [
    {
     "name": "stdout",
     "output_type": "stream",
     "text": [
      "[1.  2.  3.  4.5]\n"
     ]
    }
   ],
   "source": [
    "my_array=np.array([1,2,3,4.5])\n",
    "print(my_array)"
   ]
  },
  {
   "cell_type": "code",
   "execution_count": 22,
   "id": "f8342af2",
   "metadata": {},
   "outputs": [
    {
     "name": "stdout",
     "output_type": "stream",
     "text": [
      "1\n"
     ]
    }
   ],
   "source": [
    "# Indexing\n",
    "my_array=np.array([1,2,3,4])\n",
    "print(my_array[0])"
   ]
  },
  {
   "cell_type": "code",
   "execution_count": 18,
   "id": "efb30718",
   "metadata": {},
   "outputs": [
    {
     "name": "stdout",
     "output_type": "stream",
     "text": [
      "[1 2]\n"
     ]
    }
   ],
   "source": [
    "my_array=np.array([1,2,3,4])\n",
    "print(my_array[0:2])"
   ]
  },
  {
   "cell_type": "code",
   "execution_count": 21,
   "id": "8ef357f0",
   "metadata": {},
   "outputs": [
    {
     "name": "stdout",
     "output_type": "stream",
     "text": [
      "3\n"
     ]
    }
   ],
   "source": [
    "# Using index in 2-D array\n",
    "my_array=np.array([[1,2,3,4],[5,6,7,8]])\n",
    "print(my_array[0,2])"
   ]
  },
  {
   "cell_type": "code",
   "execution_count": 23,
   "id": "559fbb35",
   "metadata": {},
   "outputs": [
    {
     "name": "stdout",
     "output_type": "stream",
     "text": [
      "7\n"
     ]
    }
   ],
   "source": [
    "my_array=np.array([[1,2,3,4],[5,6,7,8]])\n",
    "print(my_array[1,2])"
   ]
  },
  {
   "cell_type": "code",
   "execution_count": 28,
   "id": "94439ca9",
   "metadata": {},
   "outputs": [],
   "source": [
    "# Array vs List"
   ]
  },
  {
   "cell_type": "code",
   "execution_count": 29,
   "id": "6501d957",
   "metadata": {},
   "outputs": [
    {
     "name": "stdout",
     "output_type": "stream",
     "text": [
      "LIST:[1, 2, 3, 4, 5, 6, 7, 8]\n"
     ]
    }
   ],
   "source": [
    "my_list1=[1,2,3,4]\n",
    "my_list2=[5,6,7,8]\n",
    "print(f'LIST:{my_list1+my_list2}')"
   ]
  },
  {
   "cell_type": "code",
   "execution_count": 32,
   "id": "3f1dd815",
   "metadata": {},
   "outputs": [
    {
     "name": "stdout",
     "output_type": "stream",
     "text": [
      "ARRAY:[ 6  8 10 12]\n"
     ]
    }
   ],
   "source": [
    "my_array1=np.array([1,2,3,4])\n",
    "my_array2=np.array([5,6,7,8])\n",
    "print(f'ARRAY:{my_array1+my_array2}')"
   ]
  },
  {
   "cell_type": "code",
   "execution_count": 35,
   "id": "d9b4a3f2",
   "metadata": {},
   "outputs": [
    {
     "name": "stdout",
     "output_type": "stream",
     "text": [
      "LIST:8\n"
     ]
    }
   ],
   "source": [
    "# Adding a single elements\n",
    "my_list1=[1,2,3,4]\n",
    "my_list2=[5,6,7,8]\n",
    "print(f'LIST:{my_list1[1]+my_list2[1]}')"
   ]
  },
  {
   "cell_type": "code",
   "execution_count": 36,
   "id": "66541975",
   "metadata": {},
   "outputs": [
    {
     "name": "stdout",
     "output_type": "stream",
     "text": [
      "ARRAY:8\n"
     ]
    }
   ],
   "source": [
    "my_array1=np.array([1,2,3,4])\n",
    "my_array2=np.array([5,6,7,8])\n",
    "print(f'ARRAY:{my_array1[1]+my_array2[1]}')"
   ]
  },
  {
   "cell_type": "code",
   "execution_count": 37,
   "id": "0ae5bd10",
   "metadata": {},
   "outputs": [
    {
     "ename": "TypeError",
     "evalue": "unsupported operand type(s) for -: 'list' and 'list'",
     "output_type": "error",
     "traceback": [
      "\u001b[1;31m---------------------------------------------------------------------------\u001b[0m",
      "\u001b[1;31mTypeError\u001b[0m                                 Traceback (most recent call last)",
      "\u001b[1;32m~\\AppData\\Local\\Temp\\ipykernel_8160\\3099805381.py\u001b[0m in \u001b[0;36m<module>\u001b[1;34m\u001b[0m\n\u001b[0;32m      1\u001b[0m \u001b[0mmy_list1\u001b[0m\u001b[1;33m=\u001b[0m\u001b[1;33m[\u001b[0m\u001b[1;36m1\u001b[0m\u001b[1;33m,\u001b[0m\u001b[1;36m2\u001b[0m\u001b[1;33m,\u001b[0m\u001b[1;36m3\u001b[0m\u001b[1;33m,\u001b[0m\u001b[1;36m4\u001b[0m\u001b[1;33m]\u001b[0m\u001b[1;33m\u001b[0m\u001b[1;33m\u001b[0m\u001b[0m\n\u001b[0;32m      2\u001b[0m \u001b[0mmy_list2\u001b[0m\u001b[1;33m=\u001b[0m\u001b[1;33m[\u001b[0m\u001b[1;36m5\u001b[0m\u001b[1;33m,\u001b[0m\u001b[1;36m6\u001b[0m\u001b[1;33m,\u001b[0m\u001b[1;36m7\u001b[0m\u001b[1;33m,\u001b[0m\u001b[1;36m8\u001b[0m\u001b[1;33m]\u001b[0m\u001b[1;33m\u001b[0m\u001b[1;33m\u001b[0m\u001b[0m\n\u001b[1;32m----> 3\u001b[1;33m \u001b[0mprint\u001b[0m\u001b[1;33m(\u001b[0m\u001b[1;34mf'LIST:{my_list1-my_list2}'\u001b[0m\u001b[1;33m)\u001b[0m\u001b[1;33m\u001b[0m\u001b[1;33m\u001b[0m\u001b[0m\n\u001b[0m",
      "\u001b[1;31mTypeError\u001b[0m: unsupported operand type(s) for -: 'list' and 'list'"
     ]
    }
   ],
   "source": [
    "my_list1=[1,2,3,4]\n",
    "my_list2=[5,6,7,8]\n",
    "print(f'LIST:{my_list1-my_list2}')"
   ]
  },
  {
   "cell_type": "code",
   "execution_count": 38,
   "id": "f173ee18",
   "metadata": {},
   "outputs": [
    {
     "name": "stdout",
     "output_type": "stream",
     "text": [
      "ARRAY:[-4 -4 -4 -4]\n"
     ]
    }
   ],
   "source": [
    "my_array1=np.array([1,2,3,4])\n",
    "my_array2=np.array([5,6,7,8])\n",
    "print(f'ARRAY:{my_array1-my_array2}')"
   ]
  },
  {
   "cell_type": "code",
   "execution_count": 39,
   "id": "73b83214",
   "metadata": {},
   "outputs": [
    {
     "name": "stdout",
     "output_type": "stream",
     "text": [
      "ARRAY:[ 5 12 21 32]\n"
     ]
    }
   ],
   "source": [
    "my_array1=np.array([1,2,3,4])\n",
    "my_array2=np.array([5,6,7,8])\n",
    "print(f'ARRAY:{my_array1*my_array2}')"
   ]
  },
  {
   "cell_type": "code",
   "execution_count": 41,
   "id": "f3d4991e",
   "metadata": {},
   "outputs": [
    {
     "ename": "TypeError",
     "evalue": "can't multiply sequence by non-int of type 'list'",
     "output_type": "error",
     "traceback": [
      "\u001b[1;31m---------------------------------------------------------------------------\u001b[0m",
      "\u001b[1;31mTypeError\u001b[0m                                 Traceback (most recent call last)",
      "\u001b[1;32m~\\AppData\\Local\\Temp\\ipykernel_8160\\2267636179.py\u001b[0m in \u001b[0;36m<module>\u001b[1;34m\u001b[0m\n\u001b[0;32m      1\u001b[0m \u001b[0mmy_list1\u001b[0m\u001b[1;33m=\u001b[0m\u001b[1;33m[\u001b[0m\u001b[1;36m1\u001b[0m\u001b[1;33m,\u001b[0m\u001b[1;36m2\u001b[0m\u001b[1;33m,\u001b[0m\u001b[1;36m3\u001b[0m\u001b[1;33m,\u001b[0m\u001b[1;36m4\u001b[0m\u001b[1;33m]\u001b[0m\u001b[1;33m\u001b[0m\u001b[1;33m\u001b[0m\u001b[0m\n\u001b[0;32m      2\u001b[0m \u001b[0mmy_list2\u001b[0m\u001b[1;33m=\u001b[0m\u001b[1;33m[\u001b[0m\u001b[1;36m5\u001b[0m\u001b[1;33m,\u001b[0m\u001b[1;36m6\u001b[0m\u001b[1;33m,\u001b[0m\u001b[1;36m7\u001b[0m\u001b[1;33m,\u001b[0m\u001b[1;36m8\u001b[0m\u001b[1;33m]\u001b[0m\u001b[1;33m\u001b[0m\u001b[1;33m\u001b[0m\u001b[0m\n\u001b[1;32m----> 3\u001b[1;33m \u001b[0mprint\u001b[0m\u001b[1;33m(\u001b[0m\u001b[1;34mf'LIST:{my_list1*my_list2}'\u001b[0m\u001b[1;33m)\u001b[0m\u001b[1;33m\u001b[0m\u001b[1;33m\u001b[0m\u001b[0m\n\u001b[0m",
      "\u001b[1;31mTypeError\u001b[0m: can't multiply sequence by non-int of type 'list'"
     ]
    }
   ],
   "source": [
    "my_list1=[1,2,3,4]\n",
    "my_list2=[5,6,7,8]\n",
    "print(f'LIST:{my_list1*my_list2}')"
   ]
  },
  {
   "cell_type": "code",
   "execution_count": null,
   "id": "0682f75a",
   "metadata": {},
   "outputs": [],
   "source": []
  },
  {
   "cell_type": "code",
   "execution_count": 43,
   "id": "bfdbdd22",
   "metadata": {},
   "outputs": [
    {
     "name": "stdout",
     "output_type": "stream",
     "text": [
      "Original Array: [ 1 55  3  4]\n",
      "Copied Array: [1 2 3 4]\n"
     ]
    }
   ],
   "source": [
    "# Copy an array using .copy()\n",
    "my_array=np.array([1,2,3,4])\n",
    "array_copy=my_array.copy()\n",
    "my_array[1]=55\n",
    "print(f'Original Array: {my_array}')\n",
    "print(f'Copied Array: {array_copy}')"
   ]
  },
  {
   "cell_type": "code",
   "execution_count": 45,
   "id": "9d7e3a78",
   "metadata": {},
   "outputs": [
    {
     "name": "stdout",
     "output_type": "stream",
     "text": [
      "Original Array: [ 1 55  3  4]\n",
      "Viewed Array: [ 1 55  3  4]\n"
     ]
    }
   ],
   "source": [
    "# View in an array\n",
    "# Copy an array using .copy()\n",
    "my_array=np.array([1,2,3,4])\n",
    "viewed_copy=my_array.view()\n",
    "my_array[1]=55\n",
    "print(f'Original Array: {my_array}')\n",
    "print(f'Viewed Array: {viewed_copy}')"
   ]
  },
  {
   "cell_type": "code",
   "execution_count": 46,
   "id": "c23393d8",
   "metadata": {},
   "outputs": [
    {
     "name": "stdout",
     "output_type": "stream",
     "text": [
      "[1 2 3 4]\n",
      "[5 6 7 8]\n"
     ]
    }
   ],
   "source": [
    "# Iterating an a 2-D array\n",
    "my_array=np.array([[1,2,3,4],[5,6,7,8]])\n",
    "for x in my_array:\n",
    "    print(x)\n"
   ]
  },
  {
   "cell_type": "code",
   "execution_count": 47,
   "id": "4c5c25b2",
   "metadata": {},
   "outputs": [
    {
     "name": "stdout",
     "output_type": "stream",
     "text": [
      "1\n",
      "2\n",
      "3\n",
      "4\n",
      "5\n",
      "6\n",
      "7\n",
      "8\n"
     ]
    }
   ],
   "source": [
    "my_array=np.array([[1,2,3,4],[5,6,7,8]])\n",
    "for x in my_array:\n",
    "    for i in x:\n",
    "        print(i)\n",
    "        \n",
    "    "
   ]
  },
  {
   "cell_type": "code",
   "execution_count": 48,
   "id": "5c7be32a",
   "metadata": {},
   "outputs": [
    {
     "name": "stdout",
     "output_type": "stream",
     "text": [
      "[1 2 3 4 5 6 7 8]\n"
     ]
    }
   ],
   "source": [
    "# joining 2 arrays\n",
    "my_array1=np.array([1,2,3,4])\n",
    "my_array2=np.array([5,6,7,8])\n",
    "print(np.concatenate([my_array1,my_array2]))\n",
    "                    \n",
    "                    "
   ]
  },
  {
   "cell_type": "code",
   "execution_count": 51,
   "id": "ef7f1e0e",
   "metadata": {},
   "outputs": [
    {
     "name": "stdout",
     "output_type": "stream",
     "text": [
      "[[ 1  2  3  4]\n",
      " [ 5  6  7  8]\n",
      " [ 9 10 11 12]\n",
      " [13 14 15 16]]\n"
     ]
    }
   ],
   "source": [
    "# 2-D\n",
    "my_array1=np.array([[1,2,3,4],[5,6,7,8]])\n",
    "my_array2=np.array([[9,10,11,12],[13,14,15,16]])\n",
    "print(np.concatenate((my_array1,my_array2)))\n"
   ]
  },
  {
   "cell_type": "code",
   "execution_count": 52,
   "id": "f5399f05",
   "metadata": {},
   "outputs": [
    {
     "name": "stdout",
     "output_type": "stream",
     "text": [
      "[[ 1  2  3  4  9 10 11 12]\n",
      " [ 5  6  7  8 13 14 15 16]]\n"
     ]
    }
   ],
   "source": [
    "my_array1=np.array([[1,2,3,4],[5,6,7,8]])\n",
    "my_array2=np.array([[9,10,11,12],[13,14,15,16]])\n",
    "print(np.concatenate((my_array1,my_array2),axis=1))"
   ]
  },
  {
   "cell_type": "code",
   "execution_count": 53,
   "id": "9016dfd3",
   "metadata": {},
   "outputs": [
    {
     "name": "stdout",
     "output_type": "stream",
     "text": [
      "[[1 2 3 4]\n",
      " [5 6 7 8]]\n"
     ]
    }
   ],
   "source": [
    "# Joining usin Stack\n",
    "my_array1=np.array([1,2,3,4])\n",
    "my_array2=np.array([5,6,7,8])\n",
    "print(np.stack([my_array1,my_array2]))"
   ]
  },
  {
   "cell_type": "code",
   "execution_count": 54,
   "id": "b7bf5421",
   "metadata": {},
   "outputs": [
    {
     "name": "stdout",
     "output_type": "stream",
     "text": [
      "[[[ 1  2  3  4]\n",
      "  [ 9 10 11 12]]\n",
      "\n",
      " [[ 5  6  7  8]\n",
      "  [13 14 15 16]]]\n"
     ]
    }
   ],
   "source": [
    "my_array1=np.array([[1,2,3,4],[5,6,7,8]])\n",
    "my_array2=np.array([[9,10,11,12],[13,14,15,16]])\n",
    "print(np.stack((my_array1,my_array2),axis=1))"
   ]
  },
  {
   "cell_type": "code",
   "execution_count": 57,
   "id": "d2f7f5a1",
   "metadata": {},
   "outputs": [
    {
     "name": "stdout",
     "output_type": "stream",
     "text": [
      "[array([1, 2]), array([3, 4])]\n"
     ]
    }
   ],
   "source": [
    "#Splitting an array\n",
    "my_array=np.array([1,2,3,4])\n",
    "print(np.array_split(my_array,2))"
   ]
  },
  {
   "cell_type": "code",
   "execution_count": 58,
   "id": "697297eb",
   "metadata": {},
   "outputs": [
    {
     "name": "stdout",
     "output_type": "stream",
     "text": [
      "(array([2], dtype=int64),)\n"
     ]
    }
   ],
   "source": [
    "# Searching for a value in an array using where() returns an index postion\n",
    "my_array=np.array([1,2,3,4])\n",
    "print(np.where(my_array==3))"
   ]
  },
  {
   "cell_type": "code",
   "execution_count": 63,
   "id": "d6af6ece",
   "metadata": {},
   "outputs": [
    {
     "name": "stdout",
     "output_type": "stream",
     "text": [
      "[10 20 39 45 65 69]\n"
     ]
    }
   ],
   "source": [
    "# sorting the array using sort\n",
    "my_array=np.array([10,20,39,45,65,69])\n",
    "print(np.sort(my_array))"
   ]
  },
  {
   "cell_type": "code",
   "execution_count": 61,
   "id": "89e3e628",
   "metadata": {},
   "outputs": [
    {
     "name": "stdout",
     "output_type": "stream",
     "text": [
      "[100  69  65  45  39  20]\n"
     ]
    }
   ],
   "source": [
    "# sorting in descending order\n",
    "my_array=np.array([100,20,39,45,65,69])\n",
    "print(np.sort(my_array)[::-1])"
   ]
  },
  {
   "cell_type": "code",
   "execution_count": 65,
   "id": "3a4195a5",
   "metadata": {},
   "outputs": [],
   "source": [
    "# Filtering an array\n",
    "my_array=np.array([10,20,39,45,65,69])\n",
    "filtered_array=my_array>10"
   ]
  },
  {
   "cell_type": "code",
   "execution_count": 67,
   "id": "d983a013",
   "metadata": {},
   "outputs": [
    {
     "data": {
      "text/plain": [
       "array([False,  True,  True,  True,  True,  True])"
      ]
     },
     "execution_count": 67,
     "metadata": {},
     "output_type": "execute_result"
    }
   ],
   "source": [
    "filtered_array\n"
   ]
  },
  {
   "cell_type": "code",
   "execution_count": 66,
   "id": "774a6364",
   "metadata": {},
   "outputs": [
    {
     "name": "stdout",
     "output_type": "stream",
     "text": [
      "[20 39 45 65 69]\n"
     ]
    }
   ],
   "source": [
    "print(my_array[filtered_array])"
   ]
  },
  {
   "cell_type": "code",
   "execution_count": 69,
   "id": "dc848794",
   "metadata": {},
   "outputs": [
    {
     "data": {
      "text/plain": [
       "array([20, 39, 45, 65, 69])"
      ]
     },
     "execution_count": 69,
     "metadata": {},
     "output_type": "execute_result"
    }
   ],
   "source": [
    "my_array=np.array([10,20,39,45,65,69])\n",
    "my_array[my_array>10]"
   ]
  },
  {
   "cell_type": "code",
   "execution_count": 74,
   "id": "0e0f2a26",
   "metadata": {},
   "outputs": [
    {
     "data": {
      "text/plain": [
       "array([[0.27904259, 0.51154522, 0.28602692, 0.87937174, 0.3804372 ],\n",
       "       [0.9513066 , 0.76050304, 0.44363094, 0.10935914, 0.08907471],\n",
       "       [0.53150307, 0.22982963, 0.04562691, 0.81796413, 0.65273218],\n",
       "       [0.05812274, 0.17852761, 0.33943133, 0.95114742, 0.7217784 ],\n",
       "       [0.22657194, 0.83745124, 0.93490672, 0.83195233, 0.94191835]])"
      ]
     },
     "execution_count": 74,
     "metadata": {},
     "output_type": "execute_result"
    }
   ],
   "source": [
    "# Create an array of 5x5 (Generates random numbers)\n",
    "np.random.rand(5,5)"
   ]
  },
  {
   "cell_type": "code",
   "execution_count": 78,
   "id": "b9ae9108",
   "metadata": {},
   "outputs": [
    {
     "name": "stdout",
     "output_type": "stream",
     "text": [
      "(6,)\n"
     ]
    }
   ],
   "source": [
    "print(my_array.shape)"
   ]
  },
  {
   "cell_type": "code",
   "execution_count": 79,
   "id": "c8eef6af",
   "metadata": {},
   "outputs": [
    {
     "name": "stdout",
     "output_type": "stream",
     "text": [
      "(2, 4)\n"
     ]
    }
   ],
   "source": [
    "my_array=np.array([[1,2,3,4],[5,6,7,8]])\n",
    "print(my_array.shape)"
   ]
  },
  {
   "cell_type": "code",
   "execution_count": 80,
   "id": "31576d54",
   "metadata": {},
   "outputs": [
    {
     "name": "stdout",
     "output_type": "stream",
     "text": [
      "[[1 2]\n",
      " [3 4]]\n"
     ]
    }
   ],
   "source": [
    "# Reshaping an array\n",
    "my_array=np.array([1,2,3,4])\n",
    "print(my_array.reshape(2,2))"
   ]
  },
  {
   "cell_type": "code",
   "execution_count": 84,
   "id": "6f3b59db",
   "metadata": {},
   "outputs": [
    {
     "name": "stdout",
     "output_type": "stream",
     "text": [
      "[[1 2 3 4 5 6 7 8]]\n"
     ]
    }
   ],
   "source": [
    "# Reshaping a multidim into single array\n",
    "my_array=np.array([[1,2,3,4],[5,6,7,8]])\n",
    "print(my_array.reshape(1,8))"
   ]
  },
  {
   "cell_type": "code",
   "execution_count": null,
   "id": "2d99102c",
   "metadata": {},
   "outputs": [],
   "source": []
  }
 ],
 "metadata": {
  "kernelspec": {
   "display_name": "Python 3 (ipykernel)",
   "language": "python",
   "name": "python3"
  },
  "language_info": {
   "codemirror_mode": {
    "name": "ipython",
    "version": 3
   },
   "file_extension": ".py",
   "mimetype": "text/x-python",
   "name": "python",
   "nbconvert_exporter": "python",
   "pygments_lexer": "ipython3",
   "version": "3.9.13"
  }
 },
 "nbformat": 4,
 "nbformat_minor": 5
}
